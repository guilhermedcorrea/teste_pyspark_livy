{
 "cells": [
  {
   "cell_type": "code",
   "execution_count": 55,
   "metadata": {},
   "outputs": [],
   "source": [
    "import os\n",
    "from os.path import abspath\n",
    "import findspark\n",
    "findspark.init()"
   ]
  },
  {
   "cell_type": "code",
   "execution_count": 56,
   "metadata": {},
   "outputs": [],
   "source": [
    "os.environ[\"JAVA_HOME\"] = r\"C:\\Program Files\\Java\\jdk-19\"\n",
    "os.environ[\"SPARK_HOME\"] = r\"C:\\spark\\spark-3.3.2\"\n",
    "os.environ[\"HADOOP_CONF_DIR\"] = r\"C:\\spark\\hadoop-3.3.5\\etc\\hadoop\"\n",
    "os.environ[\"YARN_CONF_DIR\"] = r\"C:\\spark\\hadoop-3.3.5\\etc\\hadoop\"\n",
    "os.environ[\"YARN_HOME\"] = r\"C:\\spark\\hadoop-3.3.5\\etc\\hadoop\"\n",
    "os.environ[\"HADOOP_HOME\"] = r\"C:\\spark\\spark-3.3.2\\hadoop\\bin\"\n",
    "\n"
   ]
  },
  {
   "cell_type": "code",
   "execution_count": 57,
   "metadata": {},
   "outputs": [],
   "source": [
    "import pyspark.sql.functions as f\n",
    "from pyspark.sql import SparkSession\n",
    "from pyspark.sql import Row\n",
    "from pyspark import SparkContext, SparkConf\n",
    "import tempfile\n",
    "\n",
    "\n",
    "warehouse_location = abspath('spark-warehouse')\n",
    "\n"
   ]
  },
  {
   "cell_type": "code",
   "execution_count": 58,
   "metadata": {},
   "outputs": [],
   "source": [
    "conf = SparkConf()\n",
    "conf.set(\"spark.master\",\"local[*]\")\n",
    "conf.set(\"spark.submit.deployMode\",\"client\")\n",
    "conf.set(\"spark.executor.memory\", \"4g\")\n",
    "conf.set(\"spark.driver.memory\", \"4g\")\n",
    "conf.set(\"spark.yarn.am.memory\",\"1g\")\n",
    "conf.set(\"spark.eventLog.enabled \",\"true\")\n",
    "conf.set(\"spark.sql.adaptive.enabled\",\"true\")\n",
    "conf.set('spark.driver.extraClassPath', r\"C:\\spark\\spark-3.3.2\\mssql-jdbc-9.4.0.jre11.jar\")\n",
    "conf.set('spark.executor.extraClassPath', r\"C:\\spark\\spark-3.3.2\\mssql-jdbc-9.4.0.jre11.jar\")\n",
    "spark = SparkSession.builder\\\n",
    "    .config(conf=conf)\\\n",
    "    .config(\"spark.sql.warehouse.dir\", warehouse_location)\\\n",
    "    .config(\"spark.sql.catalogImplementation\", \"hive\") \\\n",
    "    .enableHiveSupport() \\\n",
    "    .getOrCreate()"
   ]
  },
  {
   "cell_type": "code",
   "execution_count": 59,
   "metadata": {},
   "outputs": [],
   "source": [
    "#/usr/hdp/current/spark-client/bin/spark-submit  --class org.apache.spark.examples.SparkPi  --master yarn   --deploy-mode cluster   --executor-memory 1G   --num-executors 3   /usr/hdp/current/spark-client/lib/spark-examples*.jar   100\n"
   ]
  },
  {
   "cell_type": "code",
   "execution_count": 60,
   "metadata": {},
   "outputs": [],
   "source": [
    "#--class org.apache.spark.examples.SparkPi --master yarn --deploy-mode client --driver-memory 4g --num-executors 4 --executor-memory 4g --executor-cores 4 /opt/apps/spark-1.6.0-bin-hadoop2.6/lib/spark-examples*.jar 10\n"
   ]
  },
  {
   "cell_type": "code",
   "execution_count": 61,
   "metadata": {},
   "outputs": [
    {
     "data": {
      "text/html": [
       "\n",
       "            <div>\n",
       "                <p><b>SparkSession - hive</b></p>\n",
       "                \n",
       "        <div>\n",
       "            <p><b>SparkContext</b></p>\n",
       "\n",
       "            <p><a href=\"http://Guilherme:4040\">Spark UI</a></p>\n",
       "\n",
       "            <dl>\n",
       "              <dt>Version</dt>\n",
       "                <dd><code>v3.4.0</code></dd>\n",
       "              <dt>Master</dt>\n",
       "                <dd><code>local[*]</code></dd>\n",
       "              <dt>AppName</dt>\n",
       "                <dd><code>pyspark-shell</code></dd>\n",
       "            </dl>\n",
       "        </div>\n",
       "        \n",
       "            </div>\n",
       "        "
      ],
      "text/plain": [
       "<pyspark.sql.session.SparkSession at 0x19107c07a90>"
      ]
     },
     "execution_count": 61,
     "metadata": {},
     "output_type": "execute_result"
    }
   ],
   "source": [
    "spark"
   ]
  },
  {
   "cell_type": "code",
   "execution_count": 62,
   "metadata": {},
   "outputs": [],
   "source": [
    "sc = sparkContext=spark.sparkContext\n",
    "path = \"C:\\pyspark_cloudera_testes\\testecomcsv_neo.xlsx\"\n"
   ]
  },
  {
   "cell_type": "code",
   "execution_count": 63,
   "metadata": {},
   "outputs": [],
   "source": [
    "distFile = sc.textFile(path)"
   ]
  },
  {
   "cell_type": "code",
   "execution_count": 64,
   "metadata": {},
   "outputs": [
    {
     "data": {
      "text/plain": [
       "C:\\pyspark_cloudera_testes\testecomcsv_neo.xlsx MapPartitionsRDD[9] at textFile at NativeMethodAccessorImpl.java:0"
      ]
     },
     "execution_count": 64,
     "metadata": {},
     "output_type": "execute_result"
    }
   ],
   "source": [
    "distFile"
   ]
  },
  {
   "cell_type": "code",
   "execution_count": null,
   "metadata": {},
   "outputs": [],
   "source": [
    "\n",
    "\n",
    "import socket\n",
    "import tempfile\n",
    "import threading\n",
    "import zipfile\n",
    "from configparser import NoOptionError\n",
    "from livy.client import HttpClient\n",
    "\n",
    "session_id = 0\n",
    "job_id = 1\n",
    "# Make sure host name is lower case. See LIVY-582\n",
    "base_uri = 'http://{0}:{1}'.format(socket.gethostname().lower(), 8998)\n",
    "client_test = None\n",
    "invoked_queued_callback = False\n",
    "invoked_running_callback = False"
   ]
  },
  {
   "cell_type": "code",
   "execution_count": 65,
   "metadata": {},
   "outputs": [
    {
     "data": {
      "text/plain": [
       "{'id': 1,\n",
       " 'name': None,\n",
       " 'appId': None,\n",
       " 'owner': None,\n",
       " 'proxyUser': None,\n",
       " 'state': 'starting',\n",
       " 'kind': 'spark',\n",
       " 'appInfo': {'driverLogUrl': None, 'sparkUiUrl': None},\n",
       " 'log': ['stdout: ', '\\nstderr: ']}"
      ]
     },
     "execution_count": 65,
     "metadata": {},
     "output_type": "execute_result"
    }
   ],
   "source": [
    "import json, pprint, requests, textwrap\n",
    "host = 'http://localhost:8998'\n",
    "data = {'kind': 'spark'}\n",
    "headers = {'Content-Type': 'application/json'}\n",
    "r = requests.post(host + '/sessions', data=json.dumps(data), headers=headers)\n",
    "r.json()"
   ]
  },
  {
   "cell_type": "code",
   "execution_count": 66,
   "metadata": {},
   "outputs": [
    {
     "name": "stdout",
     "output_type": "stream",
     "text": [
      "{\"from\":0,\"total\":2,\"sessions\":[{\"id\":0,\"name\":null,\"appId\":null,\"owner\":null,\"proxyUser\":null,\"state\":\"dead\",\"kind\":\"spark\",\"appInfo\":{\"driverLogUrl\":null,\"sparkUiUrl\":null},\"log\":[\"\\tat org.apache.spark.deploy.SparkSubmit$$anon$2.doSubmit(SparkSubmit.scala:1111)\",\"\\tat org.apache.spark.deploy.SparkSubmit$.main(SparkSubmit.scala:1120)\",\"\\tat org.apache.spark.deploy.SparkSubmit.main(SparkSubmit.scala)\",\"Caused by: java.lang.ClassNotFoundException: scala.Function0$class\",\"\\tat java.base/java.net.URLClassLoader.findClass(URLClassLoader.java:476)\",\"\\tat java.base/java.lang.ClassLoader.loadClass(ClassLoader.java:589)\",\"\\tat java.base/java.lang.ClassLoader.loadClass(ClassLoader.java:522)\",\"\\t... 20 more\",\"23/04/16 02:11:48 INFO ShutdownHookManager: Shutdown hook called\",\"23/04/16 02:11:48 INFO ShutdownHookManager: Deleting directory /tmp/spark-128bcf5d-9b66-43b9-aa64-b99c024c05e0\"]},{\"id\":1,\"name\":null,\"appId\":null,\"owner\":null,\"proxyUser\":null,\"state\":\"starting\",\"kind\":\"spark\",\"appInfo\":{\"driverLogUrl\":null,\"sparkUiUrl\":null},\"log\":[\"stdout: \",\"\\nstderr: \"]}]}\n"
     ]
    }
   ],
   "source": [
    "import requests\n",
    "\n",
    "url = \"http://localhost:8998/sessions\"\n",
    "\n",
    "payload={}\n",
    "headers = {\n",
    "  'X-Requested-By': 'admin'\n",
    "}\n",
    "\n",
    "response = requests.request(\"GET\", url, headers=headers, data=payload)\n",
    "\n",
    "print(response.text)"
   ]
  },
  {
   "cell_type": "code",
   "execution_count": 88,
   "metadata": {},
   "outputs": [
    {
     "data": {
      "text/plain": [
       "'Unrecognized field \"code\" (class org.apache.livy.server.interactive.CreateInteractiveRequest), not marked as ignorable (15 known properties: \"executorCores\", \"conf\", \"driverMemory\", \"name\", \"driverCores\", \"pyFiles\", \"archives\", \"kind\", \"files\", \"jars\", \"proxyUser\", \"numExecutors\", \"heartbeatTimeoutInSecond\", \"queue\", \"executorMemory\"])\\n at [Source: (org.eclipse.jetty.server.HttpInputOverHTTP); line: 1, column: 11] (through reference chain: org.apache.livy.server.interactive.CreateInteractiveRequest[\"code\"])'"
      ]
     },
     "execution_count": 88,
     "metadata": {},
     "output_type": "execute_result"
    }
   ],
   "source": [
    "url = \"http://localhost:8998/sessions\"\n",
    "\n",
    "\n",
    "headers = {\n",
    "  'X-Requested-By': 'admin',\n",
    "  'Content-Type': 'application/json'\n",
    "}\n",
    "\n",
    "\n",
    "data = {\n",
    "  'code': textwrap.dedent(\"\"\"\n",
    "    val NUM_SAMPLES = 100000;\n",
    "    val count = sc.parallelize(1 to NUM_SAMPLES).map { i =>\n",
    "      val x = Math.random();\n",
    "      val y = Math.random();\n",
    "      if (x*x + y*y < 1) 1 else 0\n",
    "    }.reduce(_ + _);\n",
    "    println(\\\"Pi is roughly \\\" + 4.0 * count / NUM_SAMPLES)\n",
    "    \"\"\")\n",
    "}\n",
    "\n",
    "r = requests.post(url, data=json.dumps(data), headers=headers)\n",
    "r.json()\n",
    "\n",
    "\n"
   ]
  },
  {
   "cell_type": "code",
   "execution_count": 67,
   "metadata": {},
   "outputs": [
    {
     "data": {
      "text/plain": [
       "{'state': 'idle', 'id': 0, 'kind': 'spark'}"
      ]
     },
     "execution_count": 67,
     "metadata": {},
     "output_type": "execute_result"
    }
   ],
   "source": [
    "session_url = host + r.headers['location']\n",
    "r = requests.get(session_url, headers=headers)\n",
    "r.json()\n",
    "\n",
    "{u'state': u'idle', u'id': 0, u'kind': u'spark'}"
   ]
  },
  {
   "cell_type": "code",
   "execution_count": 68,
   "metadata": {},
   "outputs": [
    {
     "data": {
      "text/plain": [
       "{'output': None, 'state': 'running', 'id': 0}"
      ]
     },
     "execution_count": 68,
     "metadata": {},
     "output_type": "execute_result"
    }
   ],
   "source": [
    "statements_url = session_url + '/statements'\n",
    "data = {'code': '1 + 1'}\n",
    "r = requests.post(statements_url, data=json.dumps(data), headers=headers)\n",
    "r.json()\n",
    "\n",
    "{u'output': None, u'state': u'running', u'id': 0}"
   ]
  },
  {
   "cell_type": "code",
   "execution_count": null,
   "metadata": {},
   "outputs": [],
   "source": [
    "statement_url = host + r.headers['location']\n",
    "r = requests.get(statement_url, headers=headers)\n",
    "pprint.pprint(r.json())\n",
    "\n",
    "{u'id': 0,\n",
    "  u'output': {u'data': {u'text/plain': u'res0: Int = 2'},\n",
    "              u'execution_count': 0,\n",
    "              u'status': u'ok'},\n",
    "  u'state': u'available'}"
   ]
  },
  {
   "cell_type": "code",
   "execution_count": null,
   "metadata": {},
   "outputs": [
    {
     "data": {
      "text/plain": [
       "{'output': None, 'state': 'running', 'id': 0}"
      ]
     },
     "execution_count": 48,
     "metadata": {},
     "output_type": "execute_result"
    }
   ],
   "source": [
    "statements_url = session_url + '/statements'\n",
    "data = {'code': '1 + 1'}\n",
    "r = requests.post(statements_url, data=json.dumps(data), headers=headers)\n",
    "r.json()\n",
    "\n",
    "{u'output': None, u'state': u'running', u'id': 0}"
   ]
  },
  {
   "cell_type": "code",
   "execution_count": 70,
   "metadata": {},
   "outputs": [
    {
     "data": {
      "text/plain": [
       "{'output': None, 'state': 'running', 'id': 0}"
      ]
     },
     "execution_count": 70,
     "metadata": {},
     "output_type": "execute_result"
    }
   ],
   "source": [
    "statements_url = session_url + '/statements'\n",
    "data = {'code': '1 + 1'}\n",
    "r = requests.post(statements_url, data=json.dumps(data), headers=headers)\n",
    "r.json()\n",
    "\n",
    "{u'output': None, u'state': u'running', u'id': 0}"
   ]
  },
  {
   "cell_type": "code",
   "execution_count": null,
   "metadata": {},
   "outputs": [],
   "source": [
    "#Post\n",
    "url = \"http://localhost:8999/batches\"\n",
    "\n",
    "payload = json.dumps({\n",
    "  \"file\": \"hdfs://10.250.36.25:9000/projects/O2OV2/APP_PACKAGE/DEV/O2OV2BizLibsTemp/o2ov2.coding.keywords-1.0.0.jar\",\n",
    "  \"className\": \"com.nielseniq.o2ov2.keywords.KeywordsCodingApp\",\n",
    "  \"jars\": [\n",
    "    \"hdfs://10.250.36.25:9000/projects/O2OV2/APP_PACKAGE/DEV/O2OV2CommonLibs/*\",\n",
    "    \"hdfs://10.250.36.25:9000/projects/O2OV2/APP_PACKAGE/DEV/O2OV2BizLibsTemp/o2ov2.common-1.0.0.jar\",\n",
    "    \"hdfs://10.250.36.25:9000/projects/O2OV2/APP_PACKAGE/DEV/O2OV2BizLibsTemp/CommonInfra-2.10.0-O2OV2.jar\",\n",
    "    \"hdfs://10.250.36.25:9000/projects/O2OV2/APP_PACKAGE/DEV/O2OV2BizLibsTemp/DataValidator-2.10.0-O2OV2.jar\",\n",
    "    \"hdfs://10.250.36.25:9000/projects/O2OV2/APP_PACKAGE/DEV/O2OV2BizLibsTemp/KeywordsCoding-2.10.0-O2OV2.jar\"\n",
    "  ],\n",
    "  \"name\": \"DEV_O2OV2_KeywordsCoding_20221410\",\n",
    "  \"driverMemory\": \"4g\",\n",
    "  \"executorMemory\": \"4g\",\n",
    "  \"numExecutors\": 7,\n",
    "  \"executorCores\": 4\n",
    "})\n",
    "headers = {\n",
    "  'X-Requested-By': 'admin',\n",
    "  'Content-Type': 'application/json'\n",
    "}\n",
    "\n",
    "response = requests.request(\"POST\", url, headers=headers, data=payload)\n",
    "\n",
    "print(response.text)"
   ]
  },
  {
   "cell_type": "code",
   "execution_count": null,
   "metadata": {},
   "outputs": [],
   "source": [
    "#Get\n",
    "url = \"http://localhost:8998/sessions\"\n",
    "\n",
    "payload={}\n",
    "headers = {\n",
    "  'X-Requested-By': 'admin'\n",
    "}\n",
    "\n",
    "response = requests.request(\"GET\", url, headers=headers, data=payload)\n",
    "\n",
    "print(response.text)\n"
   ]
  }
 ],
 "metadata": {
  "kernelspec": {
   "display_name": "venv",
   "language": "python",
   "name": "python3"
  },
  "language_info": {
   "codemirror_mode": {
    "name": "ipython",
    "version": 3
   },
   "file_extension": ".py",
   "mimetype": "text/x-python",
   "name": "python",
   "nbconvert_exporter": "python",
   "pygments_lexer": "ipython3",
   "version": "3.11.2"
  },
  "orig_nbformat": 4
 },
 "nbformat": 4,
 "nbformat_minor": 2
}
