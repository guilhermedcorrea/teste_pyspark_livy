{
 "cells": [
  {
   "cell_type": "code",
   "execution_count": 1,
   "metadata": {},
   "outputs": [],
   "source": [
    "import os\n",
    "from os.path import abspath\n",
    "import findspark\n",
    "import json\n",
    "import requests\n",
    "findspark.init()"
   ]
  },
  {
   "cell_type": "code",
   "execution_count": 2,
   "metadata": {},
   "outputs": [],
   "source": [
    "os.environ[\"JAVA_HOME\"] = r\"/usr/lib/jvm/java-11-openjdk-amd64\"\n",
    "os.environ[\"SPARK_LOCAL_IP\"] = \"172.22.24.52\"\n",
    "os.environ[\"SPARK_HOME\"] = r\"/home/guilherme/spark-3.4.0-bin-hadoop3\"\n",
    "os.environ[\"LIVY_CONF_DIR\"] = r\"/home/guilherme/apache-livy-0.7.1-incubating-bin\""
   ]
  },
  {
   "cell_type": "code",
   "execution_count": 3,
   "metadata": {},
   "outputs": [],
   "source": [
    "import pyspark.sql.functions as f\n",
    "from pyspark.sql import SparkSession\n",
    "from pyspark.sql import Row\n",
    "from pyspark import SparkContext, SparkConf\n",
    "import tempfile\n",
    "\n",
    "warehouse_location = abspath('spark-warehouse')"
   ]
  },
  {
   "cell_type": "code",
   "execution_count": null,
   "metadata": {},
   "outputs": [],
   "source": [
    "conf = SparkConf()\n",
    "conf.set(\"spark.master\",\"local[*]\")\n",
    "conf.set(\"spark.submit.deployMode\",\"client\")\n",
    "conf.set(\"spark.executor.memory\", \"4g\")\n",
    "conf.set(\"spark.driver.memory\", \"4g\")\n",
    "conf.set(\"spark.yarn.am.memory\",\"1g\")\n",
    "conf.set(\"spark.eventLog.enabled \",\"true\")\n",
    "conf.set(\"spark.sql.adaptive.enabled\",\"true\")\n",
    "spark = SparkSession.builder\\\n",
    "    .config(conf=conf)\\\n",
    "    .config(\"spark.sql.warehouse.dir\", warehouse_location)\\\n",
    "    .config(\"spark.sql.catalogImplementation\", \"hive\") \\\n",
    "    .enableHiveSupport() \\\n",
    "    .getOrCreate()"
   ]
  },
  {
   "cell_type": "code",
   "execution_count": 6,
   "metadata": {},
   "outputs": [
    {
     "data": {
      "text/plain": [
       "{'state': 'starting', 'id': 0, 'kind': 'spark'}"
      ]
     },
     "execution_count": 6,
     "metadata": {},
     "output_type": "execute_result"
    }
   ],
   "source": [
    "import json, pprint, requests, textwrap\n",
    "host = 'http://localhost:8998'\n",
    "data = {'kind': 'spark'}\n",
    "headers = {'Content-Type': 'application/json'}\n",
    "r = requests.post(host + '/sessions', data=json.dumps(data), headers=headers)\n",
    "r.json()\n",
    "\n",
    "{u'state': u'starting', u'id': 0, u'kind': u'spark'}"
   ]
  },
  {
   "cell_type": "code",
   "execution_count": 7,
   "metadata": {},
   "outputs": [
    {
     "data": {
      "text/plain": [
       "{'id': 1, 'state': 'idle'}"
      ]
     },
     "execution_count": 7,
     "metadata": {},
     "output_type": "execute_result"
    }
   ],
   "source": [
    "data = {'kind': 'pyspark'}\n",
    "r = requests.post(host + '/sessions', data=json.dumps(data), headers=headers)\n",
    "r.json()\n",
    "\n",
    "{u'id': 1, u'state': u'idle'}"
   ]
  },
  {
   "cell_type": "code",
   "execution_count": 8,
   "metadata": {},
   "outputs": [
    {
     "data": {
      "text/plain": [
       "<Response [404]>"
      ]
     },
     "execution_count": 8,
     "metadata": {},
     "output_type": "execute_result"
    }
   ],
   "source": [
    "session_url = 'http://localhost:8998/sessions/0'\n",
    "requests.delete(session_url, headers=headers)"
   ]
  },
  {
   "cell_type": "code",
   "execution_count": 9,
   "metadata": {},
   "outputs": [
    {
     "name": "stdout",
     "output_type": "stream",
     "text": [
      "{'msg': \"Session '0' not found.\"}\n"
     ]
    },
    {
     "data": {
      "text/plain": [
       "{'id': 1,\n",
       " 'output': {'data': {'text/plain': 'Pi is roughly 3.14004\\nNUM_SAMPLES: Int = 100000\\ncount: Int = 78501'},\n",
       "  'execution_count': 1,\n",
       "  'status': 'ok'},\n",
       " 'state': 'available'}"
      ]
     },
     "execution_count": 9,
     "metadata": {},
     "output_type": "execute_result"
    }
   ],
   "source": [
    "\n",
    "r = requests.get(session_url)\n",
    "pprint.pprint(r.json())\n",
    "\n",
    "{u'id': 1,\n",
    " u'output': {u'data': {u'text/plain': u'Pi is roughly 3.14004\\nNUM_SAMPLES: Int = 100000\\ncount: Int = 78501'},\n",
    "             u'execution_count': 1,\n",
    "             u'status': u'ok'},\n",
    " u'state': u'available'}"
   ]
  },
  {
   "cell_type": "code",
   "execution_count": 10,
   "metadata": {},
   "outputs": [
    {
     "data": {
      "text/plain": [
       "{'id': 1, 'state': 'idle'}"
      ]
     },
     "execution_count": 10,
     "metadata": {},
     "output_type": "execute_result"
    }
   ],
   "source": [
    "data = {'kind': 'sparkr'}\n",
    "r = requests.post(host + '/sessions', data=json.dumps(data), headers=headers)\n",
    "r.json()\n",
    "\n",
    "{u'id': 1, u'state': u'idle'}"
   ]
  },
  {
   "cell_type": "code",
   "execution_count": 11,
   "metadata": {},
   "outputs": [
    {
     "name": "stdout",
     "output_type": "stream",
     "text": [
      "{\"from\":0,\"total\":6,\"sessions\":[{\"id\":23,\"name\":null,\"appId\":null,\"owner\":null,\"proxyUser\":null,\"state\":\"dead\",\"kind\":\"spark\",\"appInfo\":{\"driverLogUrl\":null,\"sparkUiUrl\":null},\"log\":[\"\\tat org.apache.spark.deploy.SparkSubmit.submit(SparkSubmit.scala:215)\",\"\\tat org.apache.spark.deploy.SparkSubmit.doSubmit(SparkSubmit.scala:91)\",\"\\tat org.apache.spark.deploy.SparkSubmit$$anon$2.doSubmit(SparkSubmit.scala:1111)\",\"\\tat org.apache.spark.deploy.SparkSubmit$.main(SparkSubmit.scala:1120)\",\"\\tat org.apache.spark.deploy.SparkSubmit.main(SparkSubmit.scala)\",\"Caused by: java.lang.ClassNotFoundException: scala.Function0$class\",\"\\tat java.base/java.net.URLClassLoader.findClass(URLClassLoader.java:476)\",\"\\tat java.base/java.lang.ClassLoader.loadClass(ClassLoader.java:589)\",\"\\tat java.base/java.lang.ClassLoader.loadClass(ClassLoader.java:522)\",\"\\t... 20 more\"]},{\"id\":24,\"name\":null,\"appId\":null,\"owner\":null,\"proxyUser\":null,\"state\":\"dead\",\"kind\":\"pyspark\",\"appInfo\":{\"driverLogUrl\":null,\"sparkUiUrl\":null},\"log\":[\"\\tat org.apache.spark.deploy.SparkSubmit.submit(SparkSubmit.scala:215)\",\"\\tat org.apache.spark.deploy.SparkSubmit.doSubmit(SparkSubmit.scala:91)\",\"\\tat org.apache.spark.deploy.SparkSubmit$$anon$2.doSubmit(SparkSubmit.scala:1111)\",\"\\tat org.apache.spark.deploy.SparkSubmit$.main(SparkSubmit.scala:1120)\",\"\\tat org.apache.spark.deploy.SparkSubmit.main(SparkSubmit.scala)\",\"Caused by: java.lang.ClassNotFoundException: scala.Function0$class\",\"\\tat java.base/java.net.URLClassLoader.findClass(URLClassLoader.java:476)\",\"\\tat java.base/java.lang.ClassLoader.loadClass(ClassLoader.java:589)\",\"\\tat java.base/java.lang.ClassLoader.loadClass(ClassLoader.java:522)\",\"\\t... 20 more\"]},{\"id\":25,\"name\":null,\"appId\":null,\"owner\":null,\"proxyUser\":null,\"state\":\"dead\",\"kind\":\"sparkr\",\"appInfo\":{\"driverLogUrl\":null,\"sparkUiUrl\":null},\"log\":[\"\\tat org.apache.spark.deploy.SparkSubmit.submit(SparkSubmit.scala:215)\",\"\\tat org.apache.spark.deploy.SparkSubmit.doSubmit(SparkSubmit.scala:91)\",\"\\tat org.apache.spark.deploy.SparkSubmit$$anon$2.doSubmit(SparkSubmit.scala:1111)\",\"\\tat org.apache.spark.deploy.SparkSubmit$.main(SparkSubmit.scala:1120)\",\"\\tat org.apache.spark.deploy.SparkSubmit.main(SparkSubmit.scala)\",\"Caused by: java.lang.ClassNotFoundException: scala.Function0$class\",\"\\tat java.base/java.net.URLClassLoader.findClass(URLClassLoader.java:476)\",\"\\tat java.base/java.lang.ClassLoader.loadClass(ClassLoader.java:589)\",\"\\tat java.base/java.lang.ClassLoader.loadClass(ClassLoader.java:522)\",\"\\t... 20 more\"]},{\"id\":26,\"name\":null,\"appId\":null,\"owner\":null,\"proxyUser\":null,\"state\":\"starting\",\"kind\":\"spark\",\"appInfo\":{\"driverLogUrl\":null,\"sparkUiUrl\":null},\"log\":[\"stdout: \",\"\\nstderr: \"]},{\"id\":27,\"name\":null,\"appId\":null,\"owner\":null,\"proxyUser\":null,\"state\":\"starting\",\"kind\":\"pyspark\",\"appInfo\":{\"driverLogUrl\":null,\"sparkUiUrl\":null},\"log\":[\"stdout: \",\"\\nstderr: \"]},{\"id\":28,\"name\":null,\"appId\":null,\"owner\":null,\"proxyUser\":null,\"state\":\"starting\",\"kind\":\"sparkr\",\"appInfo\":{\"driverLogUrl\":null,\"sparkUiUrl\":null},\"log\":[\"stdout: \",\"\\nstderr: \"]}]}\n"
     ]
    }
   ],
   "source": [
    "\n",
    "url = \"http://localhost:8998/sessions\"\n",
    "\n",
    "payload = {}\n",
    "headers = {\n",
    "  'X-Requested-By': 'admin'\n",
    "}\n",
    "\n",
    "response = requests.request(\"GET\", url, headers=headers, data=payload)\n",
    "\n",
    "print(response.text)\n"
   ]
  },
  {
   "cell_type": "code",
   "execution_count": null,
   "metadata": {},
   "outputs": [],
   "source": [
    "url = \"http://localhost:8998/batches\"\n",
    "\n",
    "payload = json.dumps({\n",
    "  \"file\": \"hdfs://10.250.36.25:9000/projects/O2OV2/APP_PACKAGE/DEV/O2OV2BizLibs/o2ov2.coding.category-1.0.0-PUSH.jar\",\n",
    "  \"className\": \"com.nielseniq.o2ov2.catecoding.O2OV2CategoryCodingSplitApp\",\n",
    "  \"jars\": [\n",
    "    \"hdfs://10.250.36.25:9000/projects/O2OV2/APP_PACKAGE/DEV/O2OV2CommonLibs/*\",\n",
    "    \"hdfs://10.250.36.25:9000/projects/O2OV2/APP_PACKAGE/DEV/O2OV2BizLibs/CommonInfra-2.10.0-O2OV2.jar\",\n",
    "    \"hdfs://10.250.36.25:9000/projects/O2OV2/APP_PACKAGE/DEV/O2OV2BizLibs/o2ov2.common-1.0.0.jar\"\n",
    "  ],\n",
    "  \"name\": \"DEV_O2OV2_CategoryCoding_PUSH_20221404\",\n",
    "  \"driverMemory\": \"4g\",\n",
    "  \"executorMemory\": \"4g\",\n",
    "  \"numExecutors\": 7,\n",
    "  \"executorCores\": 4\n",
    "})\n",
    "headers = {\n",
    "  'X-Requested-By': 'admin',\n",
    "  'Content-Type': 'application/json'\n",
    "}\n",
    "\n",
    "response = requests.request(\"POST\", url, headers=headers, data=payload)\n",
    "\n",
    "print(response.text)"
   ]
  }
 ],
 "metadata": {
  "kernelspec": {
   "display_name": "venv",
   "language": "python",
   "name": "python3"
  },
  "language_info": {
   "codemirror_mode": {
    "name": "ipython",
    "version": 3
   },
   "file_extension": ".py",
   "mimetype": "text/x-python",
   "name": "python",
   "nbconvert_exporter": "python",
   "pygments_lexer": "ipython3",
   "version": "3.9.2"
  },
  "orig_nbformat": 4
 },
 "nbformat": 4,
 "nbformat_minor": 2
}
